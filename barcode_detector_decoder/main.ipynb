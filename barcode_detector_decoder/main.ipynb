{
 "cells": [
  {
   "cell_type": "code",
   "execution_count": 5,
   "metadata": {},
   "outputs": [
    {
     "name": "stdout",
     "output_type": "stream",
     "text": [
      "Torch Version: 2.6.0+cu118\n",
      "CUDA Available: False\n",
      "YOLO Imported Successfully!\n"
     ]
    }
   ],
   "source": [
    "import torch\n",
    "print(\"Torch Version:\", torch.__version__)\n",
    "print(\"CUDA Available:\", torch.cuda.is_available())\n",
    "\n",
    "from ultralytics import YOLO\n",
    "print(\"YOLO Imported Successfully!\")\n"
   ]
  },
  {
   "cell_type": "code",
   "execution_count": 2,
   "metadata": {},
   "outputs": [
    {
     "name": "stdout",
     "output_type": "stream",
     "text": [
      "\n",
      "0: 640x480 1 toilet, 1 book, 508.8ms\n",
      "Speed: 4.0ms preprocess, 508.8ms inference, 2.7ms postprocess per image at shape (1, 3, 640, 480)\n",
      "\n",
      "0: 640x480 1 barcode, 182.5ms\n",
      "Speed: 4.0ms preprocess, 182.5ms inference, 2.0ms postprocess per image at shape (1, 3, 640, 480)\n",
      "ℹ️ Skipping duplicate for this image: 9788183227438 (EAN13)\n"
     ]
    }
   ],
   "source": [
    "import cv2\n",
    "import numpy as np\n",
    "import pandas as pd\n",
    "from pyzbar.pyzbar import decode\n",
    "from ultralytics import YOLO\n",
    "import os\n",
    "\n",
    "# Load YOLO models\n",
    "object_model_path = r\"C:\\Users\\abhin\\Desktop\\computer_vision\\qr_code\\yolov8m.pt\"  # Object detection\n",
    "barcode_model_path = r\"C:\\Users\\abhin\\Desktop\\computer_vision\\qr_code\\best.pt\"  # Barcode detection\n",
    "\n",
    "object_model = YOLO(object_model_path)  # Object detection model\n",
    "barcode_model = YOLO(barcode_model_path)  # Barcode detection model\n",
    "\n",
    "# CSV file path for storing detected barcode data\n",
    "csv_file = r\"C:\\Users\\abhin\\Desktop\\computer_vision\\qr_code\\detected_barcodes.csv\"\n",
    "\n",
    "# Load existing barcodes from CSV (only for the current image)\n",
    "existing_barcodes = set()\n",
    "\n",
    "def load_existing_barcodes():\n",
    "    \"\"\"Loads existing barcodes from the CSV for the current image processing session.\"\"\"\n",
    "    global existing_barcodes\n",
    "    existing_barcodes.clear()\n",
    "    \n",
    "    if os.path.exists(csv_file):\n",
    "        try:\n",
    "            df = pd.read_csv(csv_file)\n",
    "            existing_barcodes = set(df[\"Barcode Data\"].astype(str).str.lower())  # Normalize\n",
    "        except pd.errors.EmptyDataError:\n",
    "            pass  # Handle empty CSV case\n",
    "\n",
    "def save_to_csv(barcode_data, barcode_type):\n",
    "    \"\"\"Saves barcode data to CSV only if it's not a duplicate for this image.\"\"\"\n",
    "    barcode_data_lower = barcode_data.lower()\n",
    "\n",
    "    if barcode_data_lower in existing_barcodes:\n",
    "        print(f\"ℹ️ Skipping duplicate for this image: {barcode_data} ({barcode_type})\")\n",
    "        return\n",
    "\n",
    "    # Save new barcode\n",
    "    new_data = pd.DataFrame([[barcode_data, barcode_type]], columns=[\"Barcode Data\", \"Type\"])\n",
    "    new_data.to_csv(csv_file, mode='a', header=not os.path.exists(csv_file), index=False)\n",
    "\n",
    "    # Update local set to prevent duplicates for this image\n",
    "    existing_barcodes.add(barcode_data_lower)\n",
    "\n",
    "    print(f\"✅ Saved: {barcode_data} ({barcode_type})\")\n",
    "\n",
    "# Load the image\n",
    "image_path = r\"C:\\Users\\abhin\\Desktop\\computer_vision\\qr_code\\WhatsApp Image 2025-03-24 at 23.32.12_0911c97f.jpg\"\n",
    "image = cv2.imread(image_path)\n",
    "\n",
    "if image is None:\n",
    "    print(\"❌ Error: Could not load image\")\n",
    "    exit()\n",
    "\n",
    "# Load existing barcodes for this image\n",
    "load_existing_barcodes()\n",
    "\n",
    "# Detect objects in the image\n",
    "object_results = object_model(image)\n",
    "\n",
    "# Draw bounding boxes for detected objects\n",
    "for object_result in object_results:\n",
    "    if hasattr(object_result, 'boxes') and object_result.boxes is not None:\n",
    "        for box in object_result.boxes:\n",
    "            x1, y1, x2, y2 = map(int, box.xyxy[0].tolist())\n",
    "            cv2.rectangle(image, (x1, y1), (x2, y2), (0, 255, 0), 2)  # Green box for objects\n",
    "\n",
    "# 📌 **Decode barcodes only ONCE per image**\n",
    "barcode_results = barcode_model(image)\n",
    "\n",
    "if hasattr(barcode_results[0], 'boxes') and barcode_results[0].boxes is not None:\n",
    "    for barcode_box in barcode_results[0].boxes:\n",
    "        bx1, by1, bx2, by2 = map(int, barcode_box.xyxy[0].tolist())\n",
    "        cv2.rectangle(image, (bx1, by1), (bx2, by2), (0, 0, 255), 2)  # Red box for barcodes\n",
    "\n",
    "# **Decode and save barcode data only once**\n",
    "decoded_objects = decode(image)\n",
    "for obj in decoded_objects:\n",
    "    barcode_data = obj.data.decode(\"utf-8\")\n",
    "    barcode_type = obj.type\n",
    "\n",
    "    # Check for duplicates before storing\n",
    "    save_to_csv(barcode_data, barcode_type)\n",
    "\n",
    "    # Place text on barcode\n",
    "    text_x, text_y = max(bx1, 10), max(by1 - 10, 20)\n",
    "    cv2.putText(image, barcode_data, (text_x, text_y),\n",
    "                cv2.FONT_HERSHEY_SIMPLEX, 0.6, (255, 0, 0), 2)\n",
    "\n",
    "# Show final image without zooming\n",
    "cv2.imshow(\"Object & Barcode Detection\", cv2.resize(image, (600, 600)))  # Resize for display\n",
    "cv2.waitKey(0)\n",
    "cv2.destroyAllWindows()\n"
   ]
  },
  {
   "cell_type": "code",
   "execution_count": null,
   "metadata": {},
   "outputs": [],
   "source": []
  }
 ],
 "metadata": {
  "kernelspec": {
   "display_name": ".venv",
   "language": "python",
   "name": "python3"
  },
  "language_info": {
   "codemirror_mode": {
    "name": "ipython",
    "version": 3
   },
   "file_extension": ".py",
   "mimetype": "text/x-python",
   "name": "python",
   "nbconvert_exporter": "python",
   "pygments_lexer": "ipython3",
   "version": "3.12.4"
  }
 },
 "nbformat": 4,
 "nbformat_minor": 2
}
